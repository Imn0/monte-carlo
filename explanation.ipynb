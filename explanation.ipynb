{
 "cells": [
  {
   "cell_type": "markdown",
   "metadata": {},
   "source": [
    "Lets say that we want to calculate some integral on interval a to b using monte carlo method but don't know how many points should be sampled to achive desired accuracy.\n",
    "Now let n be number of points we sample. Start by seting some n_start value and some n_end value, just a guess as well as some n_step value which will be used to check every n_step'th value between n_start and n_end i.e. checking every value between 50 and 5000 is not needed so with setting n_step to 50 we only check every 50'th value of n. A value of sets (or k) can be used to artificially increase n, every n value will be sampled k times and acual result is mean of all results for given n. "
   ]
  },
  {
   "cell_type": "markdown",
   "metadata": {},
   "source": [
    "Because getting random points from everywhere is not very usefull lets limit max and min y values a random point can get."
   ]
  },
  {
   "cell_type": "code",
   "execution_count": 6,
   "metadata": {},
   "outputs": [],
   "source": [
    "def min_max(function, a: float,  b: float, eps = 1000) -> tuple:\n",
    "        n = int(abs(b - a)*eps)\n",
    "        min_val = function(a)\n",
    "        max_val = function(b)\n",
    "        for i in range(n):\n",
    "            cur = function(a + i / eps)\n",
    "            if cur < min_val:\n",
    "                min_val = cur\n",
    "            if cur > max_val:\n",
    "                max_val = cur\n",
    "        return (min_val, max_val)"
   ]
  },
  {
   "cell_type": "markdown",
   "metadata": {},
   "source": [
    "With that we can start calculating integrals. Final effect should look something like this:"
   ]
  },
  {
   "cell_type": "code",
   "execution_count": 5,
   "metadata": {},
   "outputs": [],
   "source": [
    "def check_all_n_values(a, b, function, n_start, n_end, n_step, sets):\n",
    "    for n in range(n_start, n_end + 1, n_step): #n_end+1 because n_end should be inclusive\n",
    "        for k in range(sets):\n",
    "            for _ in range(n):\n",
    "                integrate(a, b, function)"
   ]
  },
  {
   "cell_type": "markdown",
   "metadata": {},
   "source": [
    "Now how one calulates integral of a function using monte carlo method? Lets start with sampling n points from inside box with one side going from start to end of integration interval and the other side from mininal value to maximal value of function being integrated (on integration interval). \n",
    "\n",
    "When function value is positive sampled point aslo has to be positive and below function graph then count it as +1 when it's below function graph, for point = (x,y): y < f(x).\n",
    "When function value is negative sampled point also has to be negative and above function graph then count it as -1 when it's above function graph, for point = (x,y): y > f(x).\n",
    "In other cases count it as 0."
   ]
  },
  {
   "cell_type": "code",
   "execution_count": 1,
   "metadata": {},
   "outputs": [],
   "source": [
    "def deafault_eval_fun(function_to_integrate, point: (float, float)) -> int:\n",
    "        val = function_to_integrate(point[0])\n",
    "        if val >= 0:  \n",
    "            if point[1] >= 0 and point[1] <= val:  \n",
    "                return 1\n",
    "        else:  \n",
    "            if point[1] <= 0 and point[1] >= val:  \n",
    "                return - 1\n",
    "        return 0"
   ]
  },
  {
   "cell_type": "markdown",
   "metadata": {},
   "source": [
    "Now value of the integral can be calucalted by multiplying fraction of poitns \"inside\" the graph by area of the box that the points were sampled from."
   ]
  },
  {
   "cell_type": "markdown",
   "metadata": {},
   "source": [
    "Lets put it all together in a class."
   ]
  },
  {
   "cell_type": "code",
   "execution_count": 7,
   "metadata": {},
   "outputs": [],
   "source": [
    "import numpy as np\n",
    "import random\n",
    "\n",
    "class Calculator:\n",
    "    def __init__(self, start: float, stop: float, fun_to_integrate, n_start=50, n_end=5000, n_step=50, sets=50):\n",
    "        self.a = start\n",
    "        self.b = stop\n",
    "        self.fun = fun_to_integrate\n",
    "        self.n_start = n_start\n",
    "        self.n_end = n_end\n",
    "        self.n_step = n_step\n",
    "        self.sets = sets\n",
    "        self.n_count = (n_end - n_start)//n_step + 1\n",
    "        self.min, self.max = min_max(fun_to_integrate,self.a, self.b)\n",
    "\n",
    "    def do_one_set(self, n: int) -> np.array:\n",
    "        arr = np.empty(self.sets)\n",
    "        for k in range(self.sets):\n",
    "            arr[k] = self.do_one_n(n)\n",
    "        return arr\n",
    "    \n",
    "    def calculate_all_n(self) -> np.array:\n",
    "        area = (self.max - self.min) * (self.b - self.a)\n",
    "\n",
    "        arr = np.empty(shape=(self.n_count, self.sets)) #for storing resutls to graph later\n",
    "        count = 0\n",
    "        for i in range(self.n_start, self.n_end + 1, self.n_step):\n",
    "            arr[count] = self.do_one_set(i)/i  # here is the C/n step\n",
    "            count = count + 1\n",
    "        return arr*area\n",
    "    \n",
    "    def do_one_n(self, n: int) -> int:\n",
    "        count = 0\n",
    "        for _ in range(n):\n",
    "            x = random.uniform(self.a, self.b)\n",
    "            y = random.uniform(self.min, self.max)\n",
    "            val = self.fun(x)\n",
    "            if val >= 0:  \n",
    "                if y >= 0 and y <= val:\n",
    "                    count += 1\n",
    "            else:  \n",
    "                if y <= 0 and y >= val:  \n",
    "                    count += -1\n",
    "        return count\n",
    "    \n",
    "monte = Calculator(0, 2, lambda x: x*x, n_start=50, n_end=200, n_step=50, sets=5)\n",
    "arr = monte.calculate_all_n()"
   ]
  },
  {
   "cell_type": "markdown",
   "metadata": {},
   "source": [
    "Now we can plot these results"
   ]
  },
  {
   "cell_type": "code",
   "execution_count": 8,
   "metadata": {},
   "outputs": [
    {
     "data": {
      "image/png": "[encoded data removed]",
      "text/plain": [
       "<Figure size 640x480 with 1 Axes>"
      ]
     },
     "metadata": {},
     "output_type": "display_data"
    }
   ],
   "source": [
    "import matplotlib.pyplot as plt\n",
    "\n",
    "def avg_results(arr):\n",
    "    return np.mean(arr, axis=1)\n",
    "\n",
    "\n",
    "def plot(n_count, n_start, n_end, n_step, sets, results):\n",
    "        for i in range(n_count):\n",
    "            plt.scatter(np.array((i*n_step+n_start,)*sets), results[i],\n",
    "                        label=f'Row {i}', color=\"b\")\n",
    "\n",
    "        plt.scatter(np.arange(n_start, n_end+1, n_step), avg_results(results), color=\"r\")\n",
    "        plt.show()\n",
    "\n",
    "\n",
    "plot(monte.n_count, monte.n_start, monte.n_end, monte.n_step, monte.sets, arr)\n"
   ]
  },
  {
   "cell_type": "markdown",
   "metadata": {},
   "source": [
    "What about using monte carlo method to calculate area of some set. Currently we cannont do that, but that can be fixed. All we need is to add custom function for checking if a point is insdie or outside the set and manually input y range. Lets calculate value of pi then."
   ]
  },
  {
   "cell_type": "markdown",
   "metadata": {},
   "source": [
    "Note that circle with radius 1 has area equal to pi and point is inside the circle if it's distance from circle's center is no greater than circle's radius. In this case counting points as negative is not needed."
   ]
  },
  {
   "cell_type": "code",
   "execution_count": 9,
   "metadata": {},
   "outputs": [],
   "source": [
    "import math\n",
    "def pi_eval_fun(fun, point:(np.single, np.single)) -> int:\n",
    "    if math.dist((0,0),point) <= 1.0:\n",
    "        return 1\n",
    "    return 0"
   ]
  },
  {
   "cell_type": "markdown",
   "metadata": {},
   "source": [
    "Lets modify Calculator class. If we set default arguments for min_val, max_val and evaluation function as None we have the exact same situation as before."
   ]
  },
  {
   "cell_type": "code",
   "execution_count": 10,
   "metadata": {},
   "outputs": [],
   "source": [
    "class Calculator:\n",
    "    def __init__(self, start: float, stop: float, fun_to_integrate, n_start=50, n_end=5000, n_step=50, sets=50, \n",
    "        min_val = None, max_val = None, eval = None):\n",
    "        self.a = start\n",
    "        self.b = stop\n",
    "        self.fun = fun_to_integrate\n",
    "        self.n_start = n_start\n",
    "        self.n_end = n_end\n",
    "        self.n_step = n_step\n",
    "        self.sets = sets\n",
    "        self.n_count = (n_end - n_start)//n_step + 1\n",
    "        \n",
    "        if min_val == None and max_val == None:\n",
    "            self.min, self.max = min_max(fun_to_integrate,self.a, self.b)\n",
    "        else:\n",
    "            self.min = min_val\n",
    "            self.max = max_val\n",
    "        if eval == None:\n",
    "            self.eval_function = deafault_eval_fun\n",
    "        else:\n",
    "            self.eval_function = eval\n",
    "\n",
    "    def do_one_n(self, n: int) -> int:\n",
    "        count = 0\n",
    "        for _ in range(n):\n",
    "            x = random.uniform(self.a, self.b)\n",
    "            y = random.uniform(self.min, self.max)\n",
    "            count += self.eval_function(self.fun,(x,y))\n",
    "        return count\n",
    "\n",
    "       "
   ]
  }
 ],
 "metadata": {
  "kernelspec": {
   "display_name": "Python 3",
   "language": "python",
   "name": "python3"
  },
  "language_info": {
   "codemirror_mode": {
    "name": "ipython",
    "version": 3
   },
   "file_extension": ".py",
   "mimetype": "text/x-python",
   "name": "python",
   "nbconvert_exporter": "python",
   "pygments_lexer": "ipython3",
   "version": "3.10.12"
  },
  "orig_nbformat": 4
 },
 "nbformat": 4,
 "nbformat_minor": 2
}
